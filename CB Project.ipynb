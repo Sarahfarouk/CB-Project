{
 "cells": [
  {
   "cell_type": "code",
   "execution_count": 1,
   "id": "25c6c05f",
   "metadata": {},
   "outputs": [],
   "source": [
    "import cobra"
   ]
  },
  {
   "cell_type": "code",
   "execution_count": 2,
   "id": "8d40a8f6",
   "metadata": {},
   "outputs": [],
   "source": [
    "from cobra import*"
   ]
  },
  {
   "cell_type": "code",
   "execution_count": 3,
   "id": "5a0c4afa",
   "metadata": {},
   "outputs": [],
   "source": [
    "Pathes=Model(\"Pathes\")"
   ]
  },
  {
   "cell_type": "markdown",
   "id": "764deb33",
   "metadata": {},
   "source": [
    "## ( GLUin Glucose import )→ Gluc"
   ]
  },
  {
   "cell_type": "code",
   "execution_count": 4,
   "id": "bff519a2",
   "metadata": {},
   "outputs": [],
   "source": [
    "GLUin=Reaction(\"GLUin\")\n",
    "GLUin.name='glucose'\n",
    "GLUin.lower_bound=1\n",
    "GLUin.upper_bound=1"
   ]
  },
  {
   "cell_type": "code",
   "execution_count": 5,
   "id": "b48c070c",
   "metadata": {},
   "outputs": [],
   "source": [
    "GLUc=Metabolite(\n",
    "    'GLUc',\n",
    "    formula='C6H12O6',\n",
    "    name='glucose',\n",
    "    compartment='c')"
   ]
  },
  {
   "cell_type": "code",
   "execution_count": 6,
   "id": "24452ed5",
   "metadata": {},
   "outputs": [],
   "source": [
    "GLUin.add_metabolites({GLUc:1})"
   ]
  },
  {
   "cell_type": "markdown",
   "id": "44819022",
   "metadata": {},
   "source": [
    "## ( HK Hexokinase ) Gluc + ATP → G6P + ADP + H+"
   ]
  },
  {
   "cell_type": "code",
   "execution_count": 7,
   "id": "11f83c98",
   "metadata": {},
   "outputs": [],
   "source": [
    "HK=Reaction(\"HK\")\n",
    "HK.name='Hexokines'\n",
    "HK.lower_bound=0\n",
    "HK.upper_bound=1000"
   ]
  },
  {
   "cell_type": "code",
   "execution_count": 8,
   "id": "f1d37fb1",
   "metadata": {},
   "outputs": [],
   "source": [
    "ATP=Metabolite(\n",
    "    'ATP',\n",
    "    formula='C10H16N5O13P3',\n",
    "    name='adenosine triphosphate',\n",
    "    compartment='c')\n",
    "\n",
    "ADP=Metabolite(\n",
    "    'ADP',\n",
    "    formula='C10H16N5O13P2',\n",
    "    name='Adenosine diphosphate',\n",
    "    compartment='c')\n",
    "\n",
    "G6P=Metabolite(\n",
    "    'G6P',\n",
    "    formula='C6H13O9',\n",
    "    name='Glucose 6 phosphate',\n",
    "    compartment='c')\n",
    "\n",
    "H=Metabolite(\n",
    "    'H',\n",
    "    formula='H',\n",
    "    name='Proton',\n",
    "    compartment='c')\n"
   ]
  },
  {
   "cell_type": "code",
   "execution_count": 9,
   "id": "f96ebf74",
   "metadata": {},
   "outputs": [],
   "source": [
    "HK.add_metabolites({GLUc:-1,ATP:-1,G6P:1,ADP:1,H:1})"
   ]
  },
  {
   "cell_type": "markdown",
   "id": "94d38af3",
   "metadata": {},
   "source": [
    "## (PGI Glucose 6-phosphate isomerase) G6P ↔ F6P"
   ]
  },
  {
   "cell_type": "code",
   "execution_count": 10,
   "id": "a4066411",
   "metadata": {},
   "outputs": [],
   "source": [
    "PGI=Reaction(\"PGI\")\n",
    "PGI.name='PGI'\n",
    "PGI.lower_bound=-1000\n",
    "PGI.upper_bound=1000"
   ]
  },
  {
   "cell_type": "code",
   "execution_count": 11,
   "id": "15b9e964",
   "metadata": {},
   "outputs": [],
   "source": [
    "F6P=Metabolite(\n",
    "    'F6P',\n",
    "    formula='C6H13O9P ',\n",
    "    name='Fructose 6-Phosphate ',\n",
    "    compartment='c')"
   ]
  },
  {
   "cell_type": "code",
   "execution_count": 12,
   "id": "31fad855",
   "metadata": {},
   "outputs": [],
   "source": [
    "PGI.add_metabolites({G6P:-1,F6P:1})"
   ]
  },
  {
   "cell_type": "markdown",
   "id": "6217ebdf",
   "metadata": {},
   "source": [
    "## ( PFK Phosphofructokinase ) F6P + ATP → FDP + ADP + H+"
   ]
  },
  {
   "cell_type": "code",
   "execution_count": 13,
   "id": "16e2dd8c",
   "metadata": {},
   "outputs": [],
   "source": [
    "PFK=Reaction(\"PFK\")\n",
    "PFK.name='PFK'\n",
    "PFK.lower_bound=0\n",
    "PFK.upper_bound=1000"
   ]
  },
  {
   "cell_type": "code",
   "execution_count": 14,
   "id": "a051a681",
   "metadata": {},
   "outputs": [],
   "source": [
    "FDP=Metabolite(\n",
    "    'FDP',\n",
    "    formula='C6H14O12P2',\n",
    "    name='Fructose 1,6-diphosphate',\n",
    "    compartment='c')"
   ]
  },
  {
   "cell_type": "code",
   "execution_count": 15,
   "id": "35af3d67",
   "metadata": {},
   "outputs": [],
   "source": [
    "PFK.add_metabolites({F6P:-1,ATP:-1,FDP:1,ADP:1,H:1})"
   ]
  },
  {
   "cell_type": "markdown",
   "id": "c164dca2",
   "metadata": {},
   "source": [
    "## ( TPI Triose-phosphate isomerase ) DHAP ↔ GAP"
   ]
  },
  {
   "cell_type": "code",
   "execution_count": 16,
   "id": "5f56938a",
   "metadata": {},
   "outputs": [],
   "source": [
    "TPI=Reaction(\"TPI\")\n",
    "TPI.name='TPI'\n",
    "TPI.lower_bound=-1000\n",
    "TPI.upper_bound=1000"
   ]
  },
  {
   "cell_type": "code",
   "execution_count": 17,
   "id": "08845cb2",
   "metadata": {},
   "outputs": [],
   "source": [
    "GAP=Metabolite(\n",
    "    'GAP',\n",
    "    formula='C3H7O6P',\n",
    "    name='Glyceraldehyde 3-phosphate',\n",
    "    compartment='c')\n",
    "\n",
    "DHAP=Metabolite(\n",
    "    'DHAP',\n",
    "    formula='C3H7O6P',\n",
    "    name='Dihydroxyacetone phosphate',\n",
    "    compartment='c')"
   ]
  },
  {
   "cell_type": "code",
   "execution_count": 18,
   "id": "f9347fcd",
   "metadata": {},
   "outputs": [],
   "source": [
    "TPI.add_metabolites({DHAP:-1,GAP:1})"
   ]
  },
  {
   "cell_type": "markdown",
   "id": "c9bc87f5",
   "metadata": {},
   "source": [
    "## ( ALD Fructose 1,6-diphosphate aldolase ) FDP ↔ DHAP + GAP"
   ]
  },
  {
   "cell_type": "code",
   "execution_count": 19,
   "id": "5dcdead1",
   "metadata": {},
   "outputs": [],
   "source": [
    "ALD=Reaction(\"ALD\")\n",
    "ALD.name='ALD'\n",
    "ALD.lower_bound=-1000\n",
    "ALD.upper_bound=1000"
   ]
  },
  {
   "cell_type": "code",
   "execution_count": 20,
   "id": "45419a9c",
   "metadata": {},
   "outputs": [],
   "source": [
    "ALD.add_metabolites({FDP:-1,DHAP:1,GAP:1})"
   ]
  },
  {
   "cell_type": "markdown",
   "id": "e8e8f039",
   "metadata": {},
   "source": [
    "## ( GAPDH Glyceraldehyde 3-phosphate dehydrogenase )\n",
    "## GAP + NAD + Pi ↔ DPG1,3 + NADH + H+"
   ]
  },
  {
   "cell_type": "code",
   "execution_count": 21,
   "id": "da38e3a4",
   "metadata": {},
   "outputs": [],
   "source": [
    "GAPDH=Reaction(\"GAPDH\")\n",
    "GAPDH.name='GAPDH'\n",
    "GAPDH.lower_bound=-1000\n",
    "GAPDH.upper_bound=1000"
   ]
  },
  {
   "cell_type": "code",
   "execution_count": 22,
   "id": "dcd0a7d7",
   "metadata": {},
   "outputs": [],
   "source": [
    "NAD=Metabolite(\n",
    "    'NAD',\n",
    "    formula='C21H27N7O14P2',\n",
    "    name='Nicotinamide adenine dinucleotide (oxidized)',\n",
    "    compartment='c')\n",
    "\n",
    "PI=Metabolite(\n",
    "    'PI',\n",
    "    formula='PO₄³⁻',\n",
    "    name='Inorganic phosphate',\n",
    "    compartment='c')\n",
    "\n",
    "NADH=Metabolite(\n",
    "    'NADH',\n",
    "    formula='C21H27N7O14P2 ',\n",
    "    name='Nicotinamide adenine dinucleotide (reduced)',\n",
    "    compartment='c')\n",
    "\n",
    "\n",
    "DPG13=Metabolite(\n",
    "    'DPG1,3',\n",
    "    formula='C3H6O10P2-2',\n",
    "    name='1,3-Diphosphoglycerate',\n",
    "    compartment='c')"
   ]
  },
  {
   "cell_type": "code",
   "execution_count": 23,
   "id": "32f13fcf",
   "metadata": {},
   "outputs": [],
   "source": [
    "GAPDH.add_metabolites({GAP:-1,NAD:-1,PI:-1,DPG13:1,NADH:1,H:1})"
   ]
  },
  {
   "cell_type": "markdown",
   "id": "32be3bfa",
   "metadata": {},
   "source": [
    "## ( PGK Phosphoglycerate kinase ) DPG1,3 + ADP ↔ PG3 + ATP"
   ]
  },
  {
   "cell_type": "code",
   "execution_count": 24,
   "id": "751325ee",
   "metadata": {},
   "outputs": [],
   "source": [
    "PGK=Reaction(\"PGK\")\n",
    "PGK.name='PGK'\n",
    "PGK.lower_bound=-1000\n",
    "PGK.upper_bound=1000"
   ]
  },
  {
   "cell_type": "code",
   "execution_count": 25,
   "id": "ab6b7637",
   "metadata": {},
   "outputs": [],
   "source": [
    "PG3=Metabolite(\n",
    "    'PG3',\n",
    "    formula='C3H7O7P',\n",
    "    name='3-Phosphoglycerate',\n",
    "    compartment='c')"
   ]
  },
  {
   "cell_type": "code",
   "execution_count": 26,
   "id": "323cdf77",
   "metadata": {},
   "outputs": [],
   "source": [
    "PGK.add_metabolites({DPG13:-1,ADP:-1,PG3:1,ATP:1})"
   ]
  },
  {
   "cell_type": "markdown",
   "id": "dc7c299e",
   "metadata": {},
   "source": [
    "## ( PGLM Phosphoglycerate mutase ) PG3 ↔ PG2"
   ]
  },
  {
   "cell_type": "code",
   "execution_count": 27,
   "id": "c715804c",
   "metadata": {},
   "outputs": [],
   "source": [
    "PGLM=Reaction(\"PGLM\")\n",
    "PGLM.name='PGLM'\n",
    "PGLM.lower_bound=-1000\n",
    "PGLM.upper_bound=1000"
   ]
  },
  {
   "cell_type": "code",
   "execution_count": 28,
   "id": "b9431c52",
   "metadata": {},
   "outputs": [],
   "source": [
    "PG2=Metabolite(\n",
    "    'PG2',\n",
    "    formula='C3H7O7P',\n",
    "    name='2-Phosphoglycerate',\n",
    "    compartment='c')"
   ]
  },
  {
   "cell_type": "code",
   "execution_count": 29,
   "id": "e3c7a9f5",
   "metadata": {},
   "outputs": [],
   "source": [
    "PGLM.add_metabolites({PG3:-1,PG2:1})"
   ]
  },
  {
   "cell_type": "markdown",
   "id": "e913a8ed",
   "metadata": {},
   "source": [
    "## ( ENO Enolase ) PG2 ↔ PEP + H2O"
   ]
  },
  {
   "cell_type": "code",
   "execution_count": 30,
   "id": "05457c69",
   "metadata": {},
   "outputs": [],
   "source": [
    "ENO=Reaction(\"ENO\")\n",
    "ENO.name='ENO'\n",
    "ENO.lower_bound=-1000\n",
    "ENO.upper_bound=1000"
   ]
  },
  {
   "cell_type": "code",
   "execution_count": 31,
   "id": "0c3ea64c",
   "metadata": {},
   "outputs": [],
   "source": [
    "PEP=Metabolite(\n",
    "    'PEP',\n",
    "    formula='C3H5O6P ',\n",
    "    name='Phosphoenolpyruvate',\n",
    "    compartment='c')\n",
    "\n",
    "H2O=Metabolite(\n",
    "    'H2O',\n",
    "    formula='H2O',\n",
    "    name='Water',\n",
    "    compartment='c')"
   ]
  },
  {
   "cell_type": "code",
   "execution_count": 32,
   "id": "b1cf56e8",
   "metadata": {},
   "outputs": [],
   "source": [
    "ENO.add_metabolites({PG2:-1,PEP:1,H2O:1})"
   ]
  },
  {
   "cell_type": "markdown",
   "id": "4a7b656e",
   "metadata": {},
   "source": [
    "## ( PK Pyruvate kinase ) PEP + ADP + H+ → PYR + ATP"
   ]
  },
  {
   "cell_type": "code",
   "execution_count": 33,
   "id": "6b7d07c5",
   "metadata": {},
   "outputs": [],
   "source": [
    "PK=Reaction(\"PK\")\n",
    "PK.name='PK'\n",
    "PK.lower_bound=0\n",
    "PK.upper_bound=1000"
   ]
  },
  {
   "cell_type": "code",
   "execution_count": 34,
   "id": "8a1518ce",
   "metadata": {},
   "outputs": [],
   "source": [
    "PYR=Metabolite(\n",
    "    'PYR',\n",
    "    formula='C3H4O3 ',\n",
    "    name='Pyruvate',\n",
    "    compartment='c')"
   ]
  },
  {
   "cell_type": "code",
   "execution_count": 35,
   "id": "186774a9",
   "metadata": {},
   "outputs": [],
   "source": [
    "PK.add_metabolites({PEP:-1,ADP:-1,H:-1,PYR:1,ATP:1})"
   ]
  },
  {
   "cell_type": "markdown",
   "id": "6c13cd61",
   "metadata": {},
   "source": [
    "## ( LDH Lactate dehydrogenase ) PYR + NADH + H+ ↔ LAC + NAD"
   ]
  },
  {
   "cell_type": "code",
   "execution_count": 36,
   "id": "23269a87",
   "metadata": {},
   "outputs": [],
   "source": [
    "LDH=Reaction(\"LDH\")\n",
    "LDH.name='LDH'\n",
    "LDH.lower_bound=-1000\n",
    "LDH.upper_bound=1000"
   ]
  },
  {
   "cell_type": "code",
   "execution_count": 37,
   "id": "8adfcda8",
   "metadata": {},
   "outputs": [],
   "source": [
    "LAC=Metabolite(\n",
    "    'LAC',\n",
    "    formula='C3H6O3 ',\n",
    "    name='Lactate',\n",
    "    compartment='c')"
   ]
  },
  {
   "cell_type": "code",
   "execution_count": 38,
   "id": "3b04c524",
   "metadata": {},
   "outputs": [],
   "source": [
    "LDH.add_metabolites({PYR:-1,NADH:-1,H:-1,LAC:1,NAD:1})"
   ]
  },
  {
   "cell_type": "markdown",
   "id": "ef9d3d97",
   "metadata": {},
   "source": [
    "## ( AMPin AMP import )→ AMP"
   ]
  },
  {
   "cell_type": "code",
   "execution_count": 39,
   "id": "427b8cdb",
   "metadata": {},
   "outputs": [],
   "source": [
    "AMPin=Reaction(\"AMPin\")\n",
    "AMPin.name='AMPin'\n",
    "AMPin.lower_bound=1\n",
    "AMPin.upper_bound=1"
   ]
  },
  {
   "cell_type": "code",
   "execution_count": 40,
   "id": "1ec9b522",
   "metadata": {},
   "outputs": [],
   "source": [
    "AMP=Metabolite(\n",
    "    'AMP',\n",
    "    formula='C10H14N5O7P',\n",
    "    name='Adenosine mono-phosphate',\n",
    "    compartment='c')"
   ]
  },
  {
   "cell_type": "code",
   "execution_count": 41,
   "id": "194b7511",
   "metadata": {},
   "outputs": [],
   "source": [
    "AMPin.add_metabolites({AMP:1})"
   ]
  },
  {
   "cell_type": "markdown",
   "id": "2609d301",
   "metadata": {},
   "source": [
    "## ( AMP AMP export ) AMP →"
   ]
  },
  {
   "cell_type": "code",
   "execution_count": 42,
   "id": "4628a40d",
   "metadata": {},
   "outputs": [],
   "source": [
    "AMPout=Reaction(\"AMPout\")\n",
    "AMPout.name='AMPout'\n",
    "AMPout.lower_bound=0\n",
    "AMPout.upper_bound=1000"
   ]
  },
  {
   "cell_type": "code",
   "execution_count": 43,
   "id": "e49817e0",
   "metadata": {},
   "outputs": [],
   "source": [
    "AMPout.add_metabolites({AMP:-1})"
   ]
  },
  {
   "cell_type": "markdown",
   "id": "a3120f55",
   "metadata": {},
   "source": [
    "## ( APK Adenylate kinase ) 2ADP ↔ AMP + ATP"
   ]
  },
  {
   "cell_type": "code",
   "execution_count": 44,
   "id": "2a1a3984",
   "metadata": {},
   "outputs": [],
   "source": [
    "APK=Reaction(\"APK\")\n",
    "APK.name='APK'\n",
    "APK.lower_bound=-1000\n",
    "APK.upper_bound=1000"
   ]
  },
  {
   "cell_type": "code",
   "execution_count": 45,
   "id": "17048299",
   "metadata": {},
   "outputs": [],
   "source": [
    "APK.add_metabolites({ADP:-2,AMP:1,ATP:1})"
   ]
  },
  {
   "cell_type": "markdown",
   "id": "224dbf9e",
   "metadata": {},
   "source": [
    "## ( PYR Pyruvate exchange ) PYR ↔"
   ]
  },
  {
   "cell_type": "code",
   "execution_count": 46,
   "id": "0e691e25",
   "metadata": {},
   "outputs": [],
   "source": [
    "PYRexchange=Reaction(\"PYRexchange\")\n",
    "PYRexchange.name='PYRexchange'\n",
    "PYRexchange.lower_bound=-1000\n",
    "PYRexchange.upper_bound=1000"
   ]
  },
  {
   "cell_type": "code",
   "execution_count": 47,
   "id": "ae3d9504",
   "metadata": {},
   "outputs": [],
   "source": [
    "PYRexchange.add_metabolites({PYR:-1})"
   ]
  },
  {
   "cell_type": "markdown",
   "id": "e3a52ca1",
   "metadata": {},
   "source": [
    "## ( LAC Lactate exchange ) LAC ↔"
   ]
  },
  {
   "cell_type": "code",
   "execution_count": 48,
   "id": "404a8527",
   "metadata": {},
   "outputs": [],
   "source": [
    "LACexchange=Reaction(\"LACexchange\")\n",
    "LACexchange.name='LACexchange'\n",
    "LACexchange.lower_bound=-1000\n",
    "LACexchange.upper_bound=1000"
   ]
  },
  {
   "cell_type": "code",
   "execution_count": 49,
   "id": "7e796e03",
   "metadata": {},
   "outputs": [],
   "source": [
    "LACexchange.add_metabolites({LAC:-1})"
   ]
  },
  {
   "cell_type": "markdown",
   "id": "cad87229",
   "metadata": {},
   "source": [
    "## ( ATP ATP hydrolysis ) ATP + H2O → ADP + Pi + H+"
   ]
  },
  {
   "cell_type": "code",
   "execution_count": 50,
   "id": "68e74774",
   "metadata": {},
   "outputs": [],
   "source": [
    "ATPhydrolysis=Reaction(\"ATPhydrolysis\")\n",
    "ATPhydrolysis.name='ATPhydrolysis'\n",
    "ATPhydrolysis.lower_bound=0\n",
    "ATPhydrolysis.upper_bound=1000"
   ]
  },
  {
   "cell_type": "code",
   "execution_count": 51,
   "id": "19e11123",
   "metadata": {},
   "outputs": [],
   "source": [
    "ATPhydrolysis.add_metabolites({ATP:-1,H2O:-1,ADP:1,PI:1,H:1})"
   ]
  },
  {
   "cell_type": "markdown",
   "id": "58691ebe",
   "metadata": {},
   "source": [
    "## ( NADH NADH oxidation ) NADH → NAD + H+"
   ]
  },
  {
   "cell_type": "code",
   "execution_count": 52,
   "id": "5e92f36e",
   "metadata": {},
   "outputs": [],
   "source": [
    "NADHoxidation=Reaction(\"NADHoxidation\")\n",
    "NADHoxidation.name='NADHoxidation'\n",
    "NADHoxidation.lower_bound=0\n",
    "NADHoxidation.upper_bound=1000"
   ]
  },
  {
   "cell_type": "code",
   "execution_count": 53,
   "id": "14ad2a11",
   "metadata": {},
   "outputs": [],
   "source": [
    "NADHoxidation.add_metabolites({NADH:-1,NAD:1,H:1})"
   ]
  },
  {
   "cell_type": "markdown",
   "id": "9f876608",
   "metadata": {},
   "source": [
    "## ( H Proton exchange ) H+ ↔"
   ]
  },
  {
   "cell_type": "code",
   "execution_count": 54,
   "id": "af747591",
   "metadata": {},
   "outputs": [],
   "source": [
    "Proton_exchange=Reaction(\"Proton_exchange\")\n",
    "Proton_exchange.name='Proton_exchange'\n",
    "Proton_exchange.lower_bound=-1000\n",
    "Proton_exchange.upper_bound=1000"
   ]
  },
  {
   "cell_type": "code",
   "execution_count": 55,
   "id": "9d2d9c01",
   "metadata": {},
   "outputs": [],
   "source": [
    "Proton_exchange.add_metabolites({H:-1})"
   ]
  },
  {
   "cell_type": "markdown",
   "id": "820dc8b1",
   "metadata": {},
   "source": [
    "## ( H2O Water exchange )  H2O ↔"
   ]
  },
  {
   "cell_type": "code",
   "execution_count": 56,
   "id": "c027c233",
   "metadata": {},
   "outputs": [],
   "source": [
    "water_exchange=Reaction(\"water_exchange\")\n",
    "water_exchange.name='water_exchange'\n",
    "water_exchange.lower_bound=-1000\n",
    "water_exchange.upper_bound=1000"
   ]
  },
  {
   "cell_type": "code",
   "execution_count": 57,
   "id": "f31b6d9a",
   "metadata": {},
   "outputs": [],
   "source": [
    "water_exchange.add_metabolites({H2O:-1})"
   ]
  },
  {
   "cell_type": "markdown",
   "id": "34fc1237",
   "metadata": {},
   "source": [
    "# Pentose pathway "
   ]
  },
  {
   "cell_type": "markdown",
   "id": "9b2c2c2d",
   "metadata": {},
   "source": [
    "## ( G6PDH ) G6P dehydrogenase G6P+NADP → GL6P+NADPH + H"
   ]
  },
  {
   "cell_type": "code",
   "execution_count": 58,
   "id": "a947aaa7",
   "metadata": {},
   "outputs": [],
   "source": [
    "G6PDH=Reaction(\"G6PDH\")\n",
    "G6PDH.name='6-Phosphogluconolactone'\n",
    "G6PDH.lower_bound=0\n",
    "G6PDH.upper_bound=1000"
   ]
  },
  {
   "cell_type": "code",
   "execution_count": 59,
   "id": "00e451b3",
   "metadata": {},
   "outputs": [],
   "source": [
    "NADP=Metabolite(\n",
    "    'NADP',\n",
    "    formula='C21H27N7O14P2 ',\n",
    "    name='Nicotinamide adenine dinucleotide phosphate (oxidized)',\n",
    "    compartment='c')\n",
    "\n",
    "GL6P=Metabolite(\n",
    "    'GL6P',\n",
    "    formula='C21H27N7O14P2 ',\n",
    "    name='6-Phosphogluconolactone',\n",
    "    compartment='c')\n",
    "\n",
    "NADPH=Metabolite(\n",
    "    'NADPH',\n",
    "    formula='C21H29N7O17P3 ',\n",
    "    name='Nicotinamide adenine',\n",
    "    compartment='c')"
   ]
  },
  {
   "cell_type": "code",
   "execution_count": 60,
   "id": "44d39018",
   "metadata": {},
   "outputs": [],
   "source": [
    "G6PDH.add_metabolites({G6P:-1,NADP:-1,GL6P:1,NADPH:1,H:1})"
   ]
  },
  {
   "cell_type": "markdown",
   "id": "4060bab7",
   "metadata": {},
   "source": [
    "## ( PGLase ) 6-Phosphogluconolactonase GL6P+H2O →GO6P + H"
   ]
  },
  {
   "cell_type": "code",
   "execution_count": 61,
   "id": "a201a487",
   "metadata": {},
   "outputs": [],
   "source": [
    "PGLase=Reaction(\"PGLase\")\n",
    "PGLase.name='6-Phosphogluconolactonase'\n",
    "PGLase.lower_bound=0\n",
    "PGLase.upper_bound=1000"
   ]
  },
  {
   "cell_type": "code",
   "execution_count": 62,
   "id": "85c2ba5b",
   "metadata": {},
   "outputs": [],
   "source": [
    "GO6P=Metabolite(\n",
    "    'GO6P',\n",
    "    formula='H2O',\n",
    "    name='6-Phosphoglyconate',\n",
    "    compartment='c')"
   ]
  },
  {
   "cell_type": "code",
   "execution_count": 63,
   "id": "022a6ae1",
   "metadata": {},
   "outputs": [],
   "source": [
    "PGLase.add_metabolites({GL6P:-1,H2O:-1,GO6P:1,H:1})"
   ]
  },
  {
   "cell_type": "markdown",
   "id": "4da219e1",
   "metadata": {},
   "source": [
    "## ( GL6PDH ) GO6P dehydrogenase GO6P+NADP→ RU5P+NADPH+CO2"
   ]
  },
  {
   "cell_type": "code",
   "execution_count": 64,
   "id": "e27fa0bd",
   "metadata": {},
   "outputs": [],
   "source": [
    "GL6PHD=Reaction(\"GL6PHD\")\n",
    "GL6PHD.name='6-Phosphogluconolactonase'\n",
    "GL6PHD.lower_bound=0\n",
    "GL6PHD.upper_bound=1000"
   ]
  },
  {
   "cell_type": "code",
   "execution_count": 65,
   "id": "66ef9c82",
   "metadata": {},
   "outputs": [],
   "source": [
    "RU5P=Metabolite(\n",
    "    'RU5P',\n",
    "    formula='C5H11O8P',\n",
    "    name='Ribulose 5-phosphate',\n",
    "    compartment='c')\n",
    "\n",
    "CO2=Metabolite(\n",
    "    'CO2',\n",
    "    formula='CO2',\n",
    "    name='Carbon dioxide',\n",
    "    compartment='c')"
   ]
  },
  {
   "cell_type": "code",
   "execution_count": 66,
   "id": "9663539d",
   "metadata": {},
   "outputs": [],
   "source": [
    "GL6PHD.add_metabolites({GO6P:-1,NADP:-1,RU5P:1,NADPH:1,CO2:1})"
   ]
  },
  {
   "cell_type": "markdown",
   "id": "a486ba06",
   "metadata": {},
   "source": [
    "## ( R5PE ) X5P epimerase RU5P ↔ X5P"
   ]
  },
  {
   "cell_type": "code",
   "execution_count": 67,
   "id": "d31f4700",
   "metadata": {},
   "outputs": [],
   "source": [
    "R5PE=Reaction(\"R5PE\")\n",
    "R5PE.name='6-Phosphogluconolactonase'\n",
    "R5PE.lower_bound=-1000\n",
    "R5PE.upper_bound=1000"
   ]
  },
  {
   "cell_type": "code",
   "execution_count": 68,
   "id": "80000802",
   "metadata": {},
   "outputs": [],
   "source": [
    "X5P=Metabolite(\n",
    "    'X5P',\n",
    "    formula='C5H11O8P',\n",
    "    name='Xylose 5-phosphate',\n",
    "    compartment='c')"
   ]
  },
  {
   "cell_type": "code",
   "execution_count": 69,
   "id": "aef90091",
   "metadata": {},
   "outputs": [],
   "source": [
    "R5PE.add_metabolites({RU5P:-1,X5P:1})"
   ]
  },
  {
   "cell_type": "markdown",
   "id": "39868c8e",
   "metadata": {},
   "source": [
    "## ( R5PI ) R5P isomerase RU5P  ↔  R5P"
   ]
  },
  {
   "cell_type": "code",
   "execution_count": 70,
   "id": "1a0fd2a8",
   "metadata": {},
   "outputs": [],
   "source": [
    "R5PI=Reaction(\"R5PI\")\n",
    "R5PI.name='6-Phosphogluconolactonase'\n",
    "R5PI.lower_bound=-1000\n",
    "R5PI.upper_bound=1000"
   ]
  },
  {
   "cell_type": "code",
   "execution_count": 71,
   "id": "3dca4d8c",
   "metadata": {},
   "outputs": [],
   "source": [
    "R5P=Metabolite(\n",
    "    'R5P',\n",
    "    formula='C5H11O8P',\n",
    "    name='Ribose 5-phosphate',\n",
    "    compartment='c')"
   ]
  },
  {
   "cell_type": "code",
   "execution_count": 72,
   "id": "73d94e75",
   "metadata": {},
   "outputs": [],
   "source": [
    "R5PI.add_metabolites({RU5P:-1,R5P:1})"
   ]
  },
  {
   "cell_type": "markdown",
   "id": "e0de0817",
   "metadata": {},
   "source": [
    "## ( TKI ) Transketolase I X5P+R5P ↔ S7P + GAP"
   ]
  },
  {
   "cell_type": "code",
   "execution_count": 73,
   "id": "ba2d5fc7",
   "metadata": {},
   "outputs": [],
   "source": [
    "TKI=Reaction(\"TKI\")\n",
    "TKI.name='6-Phosphogluconolactonase'\n",
    "TKI.lower_bound=-1000\n",
    "TKI.upper_bound=1000"
   ]
  },
  {
   "cell_type": "code",
   "execution_count": 74,
   "id": "2f63fa90",
   "metadata": {},
   "outputs": [],
   "source": [
    "S7P=Metabolite(\n",
    "    'S7P',\n",
    "    formula='C5H11O8P',\n",
    "    name='Sedoheptulose 7-phosphate',\n",
    "    compartment='c')\n",
    "\n",
    "GAP=Metabolite(\n",
    "    'GAP',\n",
    "    formula='C5H11O8P',\n",
    "    name='Sedoheptulose 7-phosphate',\n",
    "    compartment='c')"
   ]
  },
  {
   "cell_type": "code",
   "execution_count": 75,
   "id": "860ba362",
   "metadata": {},
   "outputs": [],
   "source": [
    "TKI.add_metabolites({X5P:-1,R5P:-1,S7P:1,GAP:1})"
   ]
  },
  {
   "cell_type": "markdown",
   "id": "4839a2a1",
   "metadata": {},
   "source": [
    "## ( TKII ) Transketolase II X5P+E4P ↔ F6P+GAP"
   ]
  },
  {
   "cell_type": "code",
   "execution_count": 76,
   "id": "3ad64e05",
   "metadata": {},
   "outputs": [],
   "source": [
    "TKII=Reaction(\"TKII\")\n",
    "TKII.name='6-Phosphogluconolactonase'\n",
    "TKII.lower_bound=-1000\n",
    "TKII.upper_bound=1000"
   ]
  },
  {
   "cell_type": "code",
   "execution_count": 77,
   "id": "762e5be7",
   "metadata": {},
   "outputs": [],
   "source": [
    "E4P=Metabolite(\n",
    "    'E4P',\n",
    "    formula='C5H11O8P',\n",
    "    name='Erythrose 4-phosphate',\n",
    "    compartment='c')\n",
    "\n",
    "F6P=Metabolite(\n",
    "    'F6P',\n",
    "    formula='C6H13O9P',\n",
    "    name='Erythrose 4-phosphate',\n",
    "    compartment='c')"
   ]
  },
  {
   "cell_type": "code",
   "execution_count": 78,
   "id": "84d536d1",
   "metadata": {},
   "outputs": [],
   "source": [
    "TKII.add_metabolites({X5P:-1,E4P:-1,F6P:1,GAP:1})"
   ]
  },
  {
   "cell_type": "markdown",
   "id": "dce825b0",
   "metadata": {},
   "source": [
    "## ( TALA ) Transaldolase S7P+GAP ↔  E4P+ F6P"
   ]
  },
  {
   "cell_type": "code",
   "execution_count": 79,
   "id": "86a08dc6",
   "metadata": {},
   "outputs": [],
   "source": [
    "TALA=Reaction(\"TALA\")\n",
    "TALA.name='6-Phosphogluconolactonase'\n",
    "TALA.lower_bound=-1000\n",
    "TALA.upper_bound=1000"
   ]
  },
  {
   "cell_type": "code",
   "execution_count": 80,
   "id": "251a5448",
   "metadata": {},
   "outputs": [],
   "source": [
    "TALA.add_metabolites({S7P:-1,GAP:-1,E4P:1,F6P:1})"
   ]
  },
  {
   "cell_type": "markdown",
   "id": "5393dd87",
   "metadata": {},
   "source": [
    "## ( GSSGR ) Glutathione reductase GSSG+NADPH+H ↔ 2GSH + NADP"
   ]
  },
  {
   "cell_type": "code",
   "execution_count": 81,
   "id": "6f3a83d6",
   "metadata": {},
   "outputs": [],
   "source": [
    "GSSGR=Reaction(\"GSSGR\")\n",
    "GSSGR.name='6-Phosphogluconolactonase'\n",
    "GSSGR.lower_bound=-1000\n",
    "GSSGR.upper_bound=1000"
   ]
  },
  {
   "cell_type": "code",
   "execution_count": 82,
   "id": "c55ea503",
   "metadata": {},
   "outputs": [],
   "source": [
    "GSSG=Metabolite(\n",
    "    'GSSG',\n",
    "    formula='C6H13O9P',\n",
    "    name='Glutathione (oxidized)',\n",
    "    compartment='c')\n",
    "\n",
    "GSH=Metabolite(\n",
    "    'GSH',\n",
    "    formula='C6H13O9P',\n",
    "    name='Glutathione (reduced)',\n",
    "    compartment='c')"
   ]
  },
  {
   "cell_type": "code",
   "execution_count": 83,
   "id": "f175c636",
   "metadata": {},
   "outputs": [],
   "source": [
    "GSSGR.add_metabolites({GSSG:-1,NADPH:-1,H:-1,GSH:2,NADP:1})"
   ]
  },
  {
   "cell_type": "markdown",
   "id": "fa0cc6ac",
   "metadata": {},
   "source": [
    "## ( GSHR ) Glutathione oxidase 2GSH ↔ GSSG + 2H"
   ]
  },
  {
   "cell_type": "code",
   "execution_count": 84,
   "id": "5558e794",
   "metadata": {},
   "outputs": [],
   "source": [
    "GSHR=Reaction(\"GSHR\")\n",
    "GSHR.name='6-Phosphogluconolactonase'\n",
    "GSHR.lower_bound=-1000\n",
    "GSHR.upper_bound=1000"
   ]
  },
  {
   "cell_type": "code",
   "execution_count": 85,
   "id": "59545132",
   "metadata": {},
   "outputs": [],
   "source": [
    "GSHR.add_metabolites({GSH:-2,GSSG:1,H:2})"
   ]
  },
  {
   "cell_type": "markdown",
   "id": "2f12e2d8",
   "metadata": {},
   "source": [
    "## ( CO2 exch ) freely exchanging CO2    CO2,in →CO2,out"
   ]
  },
  {
   "cell_type": "code",
   "execution_count": 86,
   "id": "f0ed4906",
   "metadata": {},
   "outputs": [],
   "source": [
    "CO2_Exchange=Reaction(\"CO2_Exchange\")\n",
    "CO2_Exchange.name='6-Phosphogluconolactonase'\n",
    "CO2_Exchange.lower_bound=0\n",
    "CO2_Exchange.upper_bound=1000"
   ]
  },
  {
   "cell_type": "code",
   "execution_count": 87,
   "id": "0e32b113",
   "metadata": {},
   "outputs": [],
   "source": [
    "CO2_Exchange.add_metabolites({CO2:-1,CO2:1})"
   ]
  },
  {
   "cell_type": "markdown",
   "id": "e4820730",
   "metadata": {},
   "source": [
    "# Fermentation Pathway"
   ]
  },
  {
   "cell_type": "markdown",
   "id": "96571e7c",
   "metadata": {},
   "source": [
    "# 2PYR+2NADH+2H<=====> 2LAC + 2NAD"
   ]
  },
  {
   "cell_type": "code",
   "execution_count": 88,
   "id": "39170d8a",
   "metadata": {},
   "outputs": [],
   "source": [
    "NAD_Regenerate=Reaction(\"NAD_Regenerate\")\n",
    "NAD_Regenerate.name='Lactate Fermentation'\n",
    "NAD_Regenerate.lower_bound=-1000\n",
    "NAD_Regenerate.upper_bound=1000"
   ]
  },
  {
   "cell_type": "code",
   "execution_count": 89,
   "id": "bbdd2ff3",
   "metadata": {},
   "outputs": [],
   "source": [
    "NAD_Regenerate.add_metabolites({PYR:-2,NADH:-2,H:-2,NAD:2,LAC:2})"
   ]
  },
  {
   "cell_type": "markdown",
   "id": "802e4a34",
   "metadata": {},
   "source": [
    "# TCA Cycle Reactions"
   ]
  },
  {
   "cell_type": "markdown",
   "id": "6ded4651",
   "metadata": {},
   "source": [
    "## PYR + NAD + COA <====> Acetyl_COA + CO2 + NADH"
   ]
  },
  {
   "cell_type": "code",
   "execution_count": 90,
   "id": "c3c13b66",
   "metadata": {},
   "outputs": [],
   "source": [
    "Pyruvate_dehydrogenase_complex=Reaction('Pyruvate_dehydrogenase_complex')\n",
    "Pyruvate_dehydrogenase_complex.name='Pyruvate dehydrogenase complex'\n",
    "Pyruvate_dehydrogenase_complex.lower_bound=-1000\n",
    "Pyruvate_dehydrogenase_complex.upper_bound=1000"
   ]
  },
  {
   "cell_type": "code",
   "execution_count": 91,
   "id": "68c00d03",
   "metadata": {},
   "outputs": [],
   "source": [
    "CoA=Metabolite(\n",
    "    'CoA',\n",
    "    name= \"CoA\",\n",
    "    formula=\"C21H36N7O16P3S\",\n",
    "    compartment='c')\n",
    "\n",
    "Acetyl_CoA=Metabolite(\n",
    "    'Acetyl_CoA',\n",
    "    name= \"Acetyl CoA\",\n",
    "    formula=\"C23H38N7O17P3S\",\n",
    "    compartment='c')"
   ]
  },
  {
   "cell_type": "code",
   "execution_count": 92,
   "id": "2a7746ef",
   "metadata": {},
   "outputs": [],
   "source": [
    "Pyruvate_dehydrogenase_complex.add_metabolites({PYR:-1,NAD:-1,CoA:-1,Acetyl_CoA:1,CO2:1,NADH:1})"
   ]
  },
  {
   "cell_type": "markdown",
   "id": "5841583b",
   "metadata": {},
   "source": [
    "## Acetyl_COA + Oxaloacetate + H2O <===> Citrate + CoA"
   ]
  },
  {
   "cell_type": "code",
   "execution_count": 93,
   "id": "8e6862bc",
   "metadata": {},
   "outputs": [],
   "source": [
    "Citrate_synthase=Reaction('Citrate_synthase')\n",
    "Citrate_synthase.name='Citrate synthase'\n",
    "Citrate_synthase.lower_bound=-1000\n",
    "Citrate_synthase.upper_bound=1000"
   ]
  },
  {
   "cell_type": "code",
   "execution_count": 94,
   "id": "137d3ee4",
   "metadata": {},
   "outputs": [],
   "source": [
    "Oxaloacetate=Metabolite(\n",
    "    'Oxaloacetate',\n",
    "    name= \"Oxaloacetate\",\n",
    "    formula=\"C4H4O5\",\n",
    "    compartment='c')\n",
    "\n",
    "\n",
    "\n",
    "Citrate=Metabolite(\n",
    "    'Citrate',\n",
    "    name= \"Citrate\",\n",
    "    formula=\"C6H8O7\",\n",
    "    compartment='c')"
   ]
  },
  {
   "cell_type": "code",
   "execution_count": 95,
   "id": "22c05c4a",
   "metadata": {},
   "outputs": [],
   "source": [
    "Citrate_synthase.add_metabolites({Acetyl_CoA:-1,Oxaloacetate:-1,H2O:-1,Citrate:1,CoA:1})"
   ]
  },
  {
   "cell_type": "markdown",
   "id": "aceee5d4",
   "metadata": {},
   "source": [
    "## Citrate <====> Isocitrate"
   ]
  },
  {
   "cell_type": "code",
   "execution_count": 96,
   "id": "c953abff",
   "metadata": {},
   "outputs": [],
   "source": [
    "Aconitase=Reaction('Aconitase')\n",
    "Aconitase.name='Aconitase'\n",
    "Aconitase.lower_bound=-1000\n",
    "Aconitase.upper_bound=1000"
   ]
  },
  {
   "cell_type": "code",
   "execution_count": 97,
   "id": "ea2da2fc",
   "metadata": {},
   "outputs": [],
   "source": [
    "Isocitrate=Metabolite(\n",
    "    'Isocitrate',\n",
    "    name= \"Isocitrate\",\n",
    "    formula=\"C6H8O7\",\n",
    "    compartment='c')"
   ]
  },
  {
   "cell_type": "code",
   "execution_count": 98,
   "id": "14229223",
   "metadata": {},
   "outputs": [],
   "source": [
    "Aconitase.add_metabolites({Citrate:-1,Isocitrate:1})"
   ]
  },
  {
   "cell_type": "markdown",
   "id": "ede9a55a",
   "metadata": {},
   "source": [
    "## Isocitrate + NAD <====> α_Ketoglutarate + CO2 + NADH + H"
   ]
  },
  {
   "cell_type": "code",
   "execution_count": 99,
   "id": "50190257",
   "metadata": {},
   "outputs": [],
   "source": [
    "Isocitrate_dehydrogenase=Reaction('Isocitrate_dehydrogenase')\n",
    "Isocitrate_dehydrogenase.name='Isocitrate dehydrogenase'\n",
    "Isocitrate_dehydrogenase.lower_bound=-1000\n",
    "Isocitrate_dehydrogenase.upper_bound=1000"
   ]
  },
  {
   "cell_type": "code",
   "execution_count": 100,
   "id": "1ed4e3cc",
   "metadata": {},
   "outputs": [],
   "source": [
    "α_Ketoglutarate=Metabolite(\n",
    "    'α_Ketoglutarate',\n",
    "    name= \"α_Ketoglutarate\",\n",
    "    formula=\"C5H6O5\",\n",
    "    compartment='c')"
   ]
  },
  {
   "cell_type": "code",
   "execution_count": 101,
   "id": "f654520f",
   "metadata": {},
   "outputs": [],
   "source": [
    "Isocitrate_dehydrogenase.add_metabolites({Isocitrate:-1,NAD:-1,α_Ketoglutarate:1,CO2:1,NADH:1,H:1})"
   ]
  },
  {
   "cell_type": "markdown",
   "id": "07fbb65f",
   "metadata": {},
   "source": [
    "## α_Ketoglutarate + NAD + CoA <====> Succinyl_CoA + CO2 + NADH + H"
   ]
  },
  {
   "cell_type": "code",
   "execution_count": 102,
   "id": "6195f8b8",
   "metadata": {},
   "outputs": [],
   "source": [
    "α_Ketoglutarate_dehydrogenase=Reaction('α_Ketoglutarate_dehydrogenase')\n",
    "α_Ketoglutarate_dehydrogenase.name='α_Ketoglutarate_dehydrogenase'\n",
    "α_Ketoglutarate_dehydrogenase.lower_bound=-1000\n",
    "α_Ketoglutarate_dehydrogenase.upper_bound=1000"
   ]
  },
  {
   "cell_type": "code",
   "execution_count": 103,
   "id": "da55255b",
   "metadata": {},
   "outputs": [],
   "source": [
    "Succinyl_CoA=Metabolite(\n",
    "    'Succinyl_CoA',\n",
    "    name= \"Succinyl_CoA\",\n",
    "    formula=\"C25H40N7O19P3S\",\n",
    "    compartment='c')"
   ]
  },
  {
   "cell_type": "code",
   "execution_count": 104,
   "id": "3c896a70",
   "metadata": {},
   "outputs": [],
   "source": [
    "α_Ketoglutarate_dehydrogenase.add_metabolites({CoA:-1,NAD:-1,α_Ketoglutarate:-1,Succinyl_CoA:1,CO2:1,NADH:1,H:1})"
   ]
  },
  {
   "cell_type": "markdown",
   "id": "6c7e023a",
   "metadata": {},
   "source": [
    "## Succinyl_CoA + ADP + Pi <====> Succinate + CoA + ATP"
   ]
  },
  {
   "cell_type": "code",
   "execution_count": 105,
   "id": "2cf0794f",
   "metadata": {},
   "outputs": [],
   "source": [
    "Succinyl_CoA_synthetase=Reaction('Succinyl_CoA_synthetase')\n",
    "Succinyl_CoA_synthetase.name='Succinyl_CoA_synthetase'\n",
    "Succinyl_CoA_synthetase.lower_bound=-1000\n",
    "Succinyl_CoA_synthetase.upper_bound=1000"
   ]
  },
  {
   "cell_type": "code",
   "execution_count": 106,
   "id": "2cbdb021",
   "metadata": {},
   "outputs": [],
   "source": [
    "Succinate=Metabolite(\n",
    "    'Succinate',\n",
    "    name= \"Succinate\",\n",
    "    formula=\"C4H6O4\",\n",
    "    compartment='c')"
   ]
  },
  {
   "cell_type": "code",
   "execution_count": 107,
   "id": "7bb3468d",
   "metadata": {},
   "outputs": [],
   "source": [
    "Succinyl_CoA_synthetase.add_metabolites({Succinyl_CoA:-1,ADP:-1,PI:-1,Succinate:1,CoA:1,ATP:1})"
   ]
  },
  {
   "cell_type": "markdown",
   "id": "8b201010",
   "metadata": {},
   "source": [
    "## Succinate + FAD + Pi <=====> Fumarate + FADH2"
   ]
  },
  {
   "cell_type": "code",
   "execution_count": 108,
   "id": "d8653589",
   "metadata": {},
   "outputs": [],
   "source": [
    "Succinate_dehydrogenase=Reaction('Succinate_dehydrogenase')\n",
    "Succinate_dehydrogenase.name='Succinate dehydrogenase'\n",
    "Succinate_dehydrogenase.lower_bound=-1000\n",
    "Succinate_dehydrogenase.upper_bound=1000"
   ]
  },
  {
   "cell_type": "code",
   "execution_count": 109,
   "id": "fb648976",
   "metadata": {},
   "outputs": [],
   "source": [
    "FAD=Metabolite(\n",
    "    'FAD',\n",
    "    name= \"flavin adenine dinucleotide \",\n",
    "    formula=\"C27H33N9O15P2\",\n",
    "    compartment='c')\n",
    "\n",
    "FADH2=Metabolite(\n",
    "    'FADH2',\n",
    "    name= \"flavin adenine dinucleotidee (reduced)\",\n",
    "    formula=\"C27H33N9O15P2\",\n",
    "    compartment='c')\n",
    "\n",
    "Fumarate=Metabolite(\n",
    "    'Fumarate',\n",
    "    name= \"Fumarate\",\n",
    "    formula=\"C4H4O4\",\n",
    "    compartment='c')"
   ]
  },
  {
   "cell_type": "code",
   "execution_count": 110,
   "id": "8be7bce6",
   "metadata": {},
   "outputs": [],
   "source": [
    "Succinate_dehydrogenase.add_metabolites({Succinate:-1,FAD:-1,PI:-1,Fumarate:1,FADH2:1})"
   ]
  },
  {
   "cell_type": "markdown",
   "id": "720de17b",
   "metadata": {},
   "source": [
    "## Fumarate + H2O <====> L_Malate"
   ]
  },
  {
   "cell_type": "code",
   "execution_count": 111,
   "id": "5838e0aa",
   "metadata": {},
   "outputs": [],
   "source": [
    "Fumarase=Reaction('Fumarase')\n",
    "Fumarase.name='Fumarase'\n",
    "Fumarase.lower_bound=-1000\n",
    "Fumarase.upper_bound=1000"
   ]
  },
  {
   "cell_type": "code",
   "execution_count": 112,
   "id": "fb4168eb",
   "metadata": {},
   "outputs": [],
   "source": [
    "L_Malate=Metabolite(\n",
    "    'L_Malate',\n",
    "    name= \"L_Malate\",\n",
    "    formula=\"C4H6O5\",\n",
    "    compartment='c')"
   ]
  },
  {
   "cell_type": "code",
   "execution_count": 113,
   "id": "2704d8c2",
   "metadata": {},
   "outputs": [],
   "source": [
    "Fumarase.add_metabolites({Fumarate:-1,H2O:-1,L_Malate:1})"
   ]
  },
  {
   "cell_type": "markdown",
   "id": "5e667e82",
   "metadata": {},
   "source": [
    "## L_Malate + NAD <====> Oxaloacetate + NADH + H"
   ]
  },
  {
   "cell_type": "code",
   "execution_count": 114,
   "id": "9421354e",
   "metadata": {},
   "outputs": [],
   "source": [
    "Malate_dehydrogenase=Reaction('Malate_dehydrogenase')\n",
    "Malate_dehydrogenase.name='Fumarase'\n",
    "Malate_dehydrogenase.lower_bound=-1000\n",
    "Malate_dehydrogenase.upper_bound=1000"
   ]
  },
  {
   "cell_type": "code",
   "execution_count": 115,
   "id": "138b02c0",
   "metadata": {},
   "outputs": [],
   "source": [
    "Malate_dehydrogenase.add_metabolites({L_Malate:-1,NAD:-1,Oxaloacetate:1,NADH:1,H:1})"
   ]
  },
  {
   "cell_type": "markdown",
   "id": "155f4d8c",
   "metadata": {},
   "source": [
    "# Oxidative phosphorylation Pathway"
   ]
  },
  {
   "cell_type": "markdown",
   "id": "8010d0da",
   "metadata": {},
   "source": [
    "## Q + 5H + NADH ===> QH2 + 4H + NAD"
   ]
  },
  {
   "cell_type": "code",
   "execution_count": 116,
   "id": "a98832c0",
   "metadata": {},
   "outputs": [],
   "source": [
    "Complex_I=Reaction('Complex_I')\n",
    "Complex_I.name='NADH dehydrogenase'\n",
    "Complex_I.lower_bound=0\n",
    "Complex_I.upper_bound=1000"
   ]
  },
  {
   "cell_type": "code",
   "execution_count": 117,
   "id": "f5e86acf",
   "metadata": {},
   "outputs": [],
   "source": [
    "Q=Metabolite(\n",
    "    'Q',\n",
    "    name= \"ubiquinone\",\n",
    "    formula=\"C59H90O4\",\n",
    "    compartment='c')\n",
    "\n",
    "QH2=Metabolite(\n",
    "    'QH2',\n",
    "    name= \"ubiquinol\",\n",
    "    formula=\"C59H92O4\",\n",
    "    compartment='c')"
   ]
  },
  {
   "cell_type": "code",
   "execution_count": 118,
   "id": "57dccee3",
   "metadata": {},
   "outputs": [],
   "source": [
    "Complex_I.add_metabolites({Q:-1,H:-5,NADH:-1,QH2:1,H:4,NAD:1})"
   ]
  },
  {
   "cell_type": "markdown",
   "id": "45b510f2",
   "metadata": {},
   "source": [
    "## Succinate + Q ===> Furmarate  + QH2"
   ]
  },
  {
   "cell_type": "code",
   "execution_count": 119,
   "id": "48a989d7",
   "metadata": {},
   "outputs": [],
   "source": [
    "Complex_II=Reaction('Complex_II')\n",
    "Complex_II.name='Succinate-Q oxidoreductase'\n",
    "Complex_II.lower_bound=0\n",
    "Complex_II.upper_bound=1000"
   ]
  },
  {
   "cell_type": "code",
   "execution_count": 120,
   "id": "df8e4ee6",
   "metadata": {},
   "outputs": [],
   "source": [
    "Complex_II.add_metabolites({Q:-1,Succinate:-1,QH2:1,Fumarate:1})"
   ]
  },
  {
   "cell_type": "markdown",
   "id": "83aa8dc7",
   "metadata": {},
   "source": [
    "## QH2 + 2Fe(+3) ====> Q + 2Fe(+2) + 2H"
   ]
  },
  {
   "cell_type": "code",
   "execution_count": 121,
   "id": "5fbd5761",
   "metadata": {},
   "outputs": [],
   "source": [
    "Complex_III=Reaction('Complex_III')\n",
    "Complex_III.name='Q-cytochrome c oxidoreductase'\n",
    "Complex_III.lower_bound=0\n",
    "Complex_III.upper_bound=1000"
   ]
  },
  {
   "cell_type": "code",
   "execution_count": 122,
   "id": "fd08bd99",
   "metadata": {},
   "outputs": [],
   "source": [
    "FE2=Metabolite(\n",
    "    'Fe+2',\n",
    "    name= \"Fe++\",\n",
    "    formula=\"Fe\",\n",
    "    compartment='c')\n",
    "\n",
    "FE3=Metabolite(\n",
    "    'Fe+3',\n",
    "    name= \"Fe+++\",\n",
    "    formula=\"Fe\",\n",
    "    compartment='c')"
   ]
  },
  {
   "cell_type": "code",
   "execution_count": 123,
   "id": "4ce2ddc4",
   "metadata": {},
   "outputs": [],
   "source": [
    "Complex_III.add_metabolites({QH2:-1,FE3:-2,FE2:2,Q:1,H:2})"
   ]
  },
  {
   "cell_type": "markdown",
   "id": "1b111b98",
   "metadata": {},
   "source": [
    "## 4Fe(+2) + 8H + O2 ====> 4Fe(+3) + 4H + 2H2O"
   ]
  },
  {
   "cell_type": "code",
   "execution_count": 124,
   "id": "faefc6cd",
   "metadata": {},
   "outputs": [],
   "source": [
    "Complex_IV=Reaction('Complex_IV')\n",
    "Complex_IV.name='Cytochrome c oxidase'\n",
    "Complex_IV.lower_bound=0\n",
    "Complex_IV.upper_bound=1000"
   ]
  },
  {
   "cell_type": "code",
   "execution_count": 125,
   "id": "94b44873",
   "metadata": {},
   "outputs": [],
   "source": [
    "O2=Metabolite(\n",
    "'O2',\n",
    "name= \"Oxgen\",\n",
    "formula=\"O2\",\n",
    "compartment='c')\n"
   ]
  },
  {
   "cell_type": "code",
   "execution_count": 126,
   "id": "fbd89409",
   "metadata": {},
   "outputs": [],
   "source": [
    "Complex_IV.add_metabolites({FE2:-4,H:-8,O2:-1,FE3:4,H:4,H2O:2})"
   ]
  },
  {
   "cell_type": "markdown",
   "id": "cf64eb93",
   "metadata": {},
   "source": [
    "## ATP + 4H + H2O <====> ADP + 5H + P"
   ]
  },
  {
   "cell_type": "code",
   "execution_count": 127,
   "id": "b0ffb72e",
   "metadata": {},
   "outputs": [],
   "source": [
    "Complex_V=Reaction('Complex_V')\n",
    "Complex_V.name='ATP synthase'\n",
    "Complex_V.lower_bound=-1000\n",
    "Complex_V.upper_bound=1000"
   ]
  },
  {
   "cell_type": "code",
   "execution_count": 128,
   "id": "ab7d1b5e",
   "metadata": {},
   "outputs": [],
   "source": [
    "P=Metabolite(\n",
    "    'P',\n",
    "    formula='PO₄³⁻',\n",
    "    name='phosphate',\n",
    "    compartment='c')"
   ]
  },
  {
   "cell_type": "code",
   "execution_count": 129,
   "id": "20e9d02a",
   "metadata": {},
   "outputs": [],
   "source": [
    "Complex_V.add_metabolites({ATP:-1,H:-4,H2O:-1,ADP:1,H:5,P:1})"
   ]
  },
  {
   "cell_type": "markdown",
   "id": "18ffd3ae",
   "metadata": {},
   "source": [
    "## diphosphate + H2O =====> H+ + 2 P"
   ]
  },
  {
   "cell_type": "code",
   "execution_count": 130,
   "id": "295194e6",
   "metadata": {},
   "outputs": [],
   "source": [
    "Inorganic_diphosphatase=Reaction('Inorganic_diphosphatase')\n",
    "Inorganic_diphosphatase.name='Inorganic diphosphatase'\n",
    "Inorganic_diphosphatase.lower_bound=0\n",
    "Inorganic_diphosphatase.upper_bound=1000"
   ]
  },
  {
   "cell_type": "code",
   "execution_count": 131,
   "id": "d19c334d",
   "metadata": {},
   "outputs": [],
   "source": [
    "diphosphate=Metabolite(\n",
    "    'diphosphate',\n",
    "    name= \"diphosphate\",\n",
    "    formula=\"P2O7H\",\n",
    "    compartment='c')"
   ]
  },
  {
   "cell_type": "code",
   "execution_count": 132,
   "id": "a9d76b7d",
   "metadata": {},
   "outputs": [],
   "source": [
    "Inorganic_diphosphatase.add_metabolites({diphosphate:-1,H2O:-1,H:1,P:2})"
   ]
  },
  {
   "cell_type": "markdown",
   "id": "56f4fcec",
   "metadata": {},
   "source": [
    "## P+ ATP <=====>2Pi+ ADP"
   ]
  },
  {
   "cell_type": "code",
   "execution_count": 133,
   "id": "813633a7",
   "metadata": {},
   "outputs": [],
   "source": [
    "APP=Reaction('APP')\n",
    "APP.name='ATP-polyphosphate phosphotransferase'\n",
    "APP.lower_bound=-1000\n",
    "APP.upper_bound=1000"
   ]
  },
  {
   "cell_type": "code",
   "execution_count": 134,
   "id": "9dbbebc9",
   "metadata": {},
   "outputs": [],
   "source": [
    "APP.add_metabolites({P:-1,ATP:-1,ADP:1,P:2})\n"
   ]
  },
  {
   "cell_type": "code",
   "execution_count": 135,
   "id": "576ff2a7",
   "metadata": {},
   "outputs": [],
   "source": [
    "PTAr=Reaction(\"PTAr\")\n",
    "PTAr.name='Phosphotransacetylase'\n",
    "PTAr.lower_bound=-1000\n",
    "PTAr.upper_bound=1000"
   ]
  },
  {
   "cell_type": "code",
   "execution_count": 136,
   "id": "e9dc67db",
   "metadata": {},
   "outputs": [],
   "source": [
    "actp=Metabolite(\n",
    "    'Acetyl_phosphate',\n",
    "    name= \"Acetyl phosphate\",\n",
    "    compartment='c')\n",
    "\n",
    "\n"
   ]
  },
  {
   "cell_type": "code",
   "execution_count": 137,
   "id": "e6e96cf7",
   "metadata": {},
   "outputs": [],
   "source": [
    "\n",
    "PTAr.add_metabolites({Acetyl_CoA:-1,PI:-1,CoA:-1,actp:1})"
   ]
  },
  {
   "cell_type": "code",
   "execution_count": 138,
   "id": "b63e2981",
   "metadata": {},
   "outputs": [],
   "source": [
    "ACK=Reaction(\"ACK\")\n",
    "ACK.name='Acetate kinase'\n",
    "ACK.lower_bound=-1000\n",
    "ACK.upper_bound=1000"
   ]
  },
  {
   "cell_type": "code",
   "execution_count": 139,
   "id": "89cf5f10",
   "metadata": {},
   "outputs": [],
   "source": [
    "Acetate_exchange=Reaction('Acetate_exchange')\n",
    "Acetate_exchange.name='Acetate exchange'\n",
    "Acetate_exchange.lower_bound=0\n",
    "Acetate_exchange.upper_bound=1000"
   ]
  },
  {
   "cell_type": "code",
   "execution_count": 140,
   "id": "0763c7c0",
   "metadata": {},
   "outputs": [],
   "source": [
    "ac=Metabolite(\n",
    "    'Acetyl',\n",
    "    name= \"Acetyl\",\n",
    "    compartment='c')"
   ]
  },
  {
   "cell_type": "code",
   "execution_count": 141,
   "id": "9aab1b76",
   "metadata": {},
   "outputs": [],
   "source": [
    "Acetate_exchange.add_metabolites({ac:-1})"
   ]
  },
  {
   "cell_type": "code",
   "execution_count": 142,
   "id": "2978b07d",
   "metadata": {},
   "outputs": [],
   "source": [
    "α_Ketoglutarate_exchange=Reaction('α_Ketoglutarate_exchange')\n",
    "α_Ketoglutarate_exchange.name='α_Ketoglutarate_exchange'\n",
    "α_Ketoglutarate_exchange.lower_bound=0\n",
    "α_Ketoglutarate_exchange.upper_bound=1000"
   ]
  },
  {
   "cell_type": "code",
   "execution_count": 143,
   "id": "ae6088be",
   "metadata": {},
   "outputs": [],
   "source": [
    "α_Ketoglutarate_exchange.add_metabolites({α_Ketoglutarate:-1})"
   ]
  },
  {
   "cell_type": "code",
   "execution_count": 144,
   "id": "f0694097",
   "metadata": {},
   "outputs": [],
   "source": [
    "\n",
    "Fumarate_exchange=Reaction('Fumarate_exchange')\n",
    "Fumarate_exchange.name='Fumarate_exchange'\n",
    "Fumarate_exchange.lower_bound=0\n",
    "Fumarate_exchange.upper_bound=1000\n"
   ]
  },
  {
   "cell_type": "code",
   "execution_count": 145,
   "id": "cc567fa9",
   "metadata": {},
   "outputs": [],
   "source": [
    "Fumarate_exchange.add_metabolites({Fumarate:-1})"
   ]
  },
  {
   "cell_type": "code",
   "execution_count": 146,
   "id": "0f69e7e6",
   "metadata": {},
   "outputs": [],
   "source": [
    "Glucose_exchange=Reaction('Glucose_exchange')\n",
    "Glucose_exchange.name='Glucose_exchange'\n",
    "Glucose_exchange.lower_bound=0\n",
    "Glucose_exchange.upper_bound=1000"
   ]
  },
  {
   "cell_type": "code",
   "execution_count": 147,
   "id": "7dac3422",
   "metadata": {},
   "outputs": [],
   "source": [
    "GLUc=Metabolite(\n",
    "    'Glucose_exchange',\n",
    "    name= \"Glucose_exchange\",\n",
    "    compartment='c')"
   ]
  },
  {
   "cell_type": "code",
   "execution_count": 148,
   "id": "d09907ef",
   "metadata": {},
   "outputs": [],
   "source": [
    "Glucose_exchange.add_metabolites({GLUc:-1})"
   ]
  },
  {
   "cell_type": "code",
   "execution_count": 149,
   "id": "30a1f577",
   "metadata": {},
   "outputs": [],
   "source": [
    "L_Malate_exchange=Reaction('L_Malate_exchange')\n",
    "L_Malate_exchange.name='L_Malate_exchange'\n",
    "L_Malate_exchange.lower_bound=0\n",
    "L_Malate_exchange.upper_bound=1000"
   ]
  },
  {
   "cell_type": "code",
   "execution_count": 150,
   "id": "506ef0e4",
   "metadata": {},
   "outputs": [],
   "source": [
    "L_Malate_exchange.add_metabolites({L_Malate:-1})"
   ]
  },
  {
   "cell_type": "code",
   "execution_count": 151,
   "id": "c98a48ce",
   "metadata": {},
   "outputs": [],
   "source": [
    "O2_exchange=Reaction('O2_exchange')\n",
    "O2_exchange.name='O2_exchange'\n",
    "O2_exchange.lower_bound=-1000\n",
    "O2_exchange.upper_bound=1000"
   ]
  },
  {
   "cell_type": "code",
   "execution_count": 152,
   "id": "e4c84a43",
   "metadata": {},
   "outputs": [],
   "source": [
    "O2_exchange.add_metabolites({O2:-1})"
   ]
  },
  {
   "cell_type": "code",
   "execution_count": 153,
   "id": "428e4348",
   "metadata": {},
   "outputs": [],
   "source": [
    "phosphate_exchange=Reaction('phosphate_exchange')\n",
    "phosphate_exchange.name='phosphate_exchange'\n",
    "phosphate_exchange.lower_bound=-1000\n",
    "phosphate_exchange.upper_bound=1000"
   ]
  },
  {
   "cell_type": "code",
   "execution_count": 154,
   "id": "b7f4e454",
   "metadata": {},
   "outputs": [],
   "source": [
    "phosphate_exchange.add_metabolites({PI:-1})\n"
   ]
  },
  {
   "cell_type": "code",
   "execution_count": 155,
   "id": "7debb2b0",
   "metadata": {},
   "outputs": [],
   "source": [
    "Succinate_exchange=Reaction('Succinate_exchange')\n",
    "Succinate_exchange.name='Succinate_exchange'\n",
    "Succinate_exchange.lower_bound=0\n",
    "Succinate_exchange.upper_bound=1000"
   ]
  },
  {
   "cell_type": "code",
   "execution_count": 156,
   "id": "eb5441d0",
   "metadata": {},
   "outputs": [],
   "source": [
    "Succinate_exchange.add_metabolites({Succinate:-1})"
   ]
  },
  {
   "cell_type": "markdown",
   "id": "86208f22",
   "metadata": {},
   "source": [
    "## Biomass Equation"
   ]
  },
  {
   "cell_type": "code",
   "execution_count": 157,
   "id": "9badb023",
   "metadata": {},
   "outputs": [],
   "source": [
    "Biomass=Reaction('Biomass')\n",
    "Biomass.name='Biomass Objective Function with GAM'\n",
    "Biomass.lower_bound=0\n",
    "Biomass.upper_bound=1000\n"
   ]
  },
  {
   "cell_type": "code",
   "execution_count": 158,
   "id": "5350bc32",
   "metadata": {},
   "outputs": [],
   "source": [
    "Biomass.add_metabolites({PG3:-1.496,ATP:-59.81,E4P:-0.361,Acetyl_CoA:-3.7478,\n",
    "F6P:-0.0709,GAP:-0.129,G6P:-0.205,H2O:-59.81,Oxaloacetate:-1.7867,PYR:-2.8328,\n",
    "PEP:-0.5191,R5P:-0.8977,NAD:-3.547,NADPH:-13.0279,#GLUc:-4.9414,\n",
    "CoA:3.7478,ADP:59.81,PI:59.81,α_Ketoglutarate:4.1182,NADP:13.0279,NADH:3.547,\n",
    "H:59.81})"
   ]
  },
  {
   "cell_type": "markdown",
   "id": "5d8687d2",
   "metadata": {},
   "source": [
    "# Add Metabolic pathways reactions to Model"
   ]
  },
  {
   "cell_type": "code",
   "execution_count": 159,
   "id": "07435bff",
   "metadata": {},
   "outputs": [],
   "source": [
    "Pathes.add_reactions([GLUin,HK,PGI,PFK,TPI,ALD,GAPDH,PGK,PGLM,ENO,PK,#LDH,\n",
    "AMPin,AMPout,APK, PYRexchange,LACexchange,NADHoxidation,Proton_exchange,water_exchange,G6PDH,\n",
    "PGLase,GL6PHD,R5PE,R5PI,TKI,TKII,TALA,GSSGR,GSHR,\n",
    "CO2_Exchange,NAD_Regenerate,Pyruvate_dehydrogenase_complex,Citrate_synthase,Aconitase,\n",
    "Isocitrate_dehydrogenase,α_Ketoglutarate_dehydrogenase,Succinyl_CoA_synthetase,\n",
    "Succinate_dehydrogenase,Fumarase, Malate_dehydrogenase,Complex_I,Complex_II,\n",
    "Complex_III,Complex_IV,Complex_V,Inorganic_diphosphatase,APP,PTAr,ACK,Acetate_exchange,\n",
    "α_Ketoglutarate_exchange,Fumarate_exchange,Glucose_exchange,L_Malate_exchange,O2_exchange,phosphate_exchange,Succinate_exchange,#NAD_Regenerate,\n",
    "Biomass])"
   ]
  },
  {
   "cell_type": "code",
   "execution_count": 160,
   "id": "2d3c47c5",
   "metadata": {},
   "outputs": [],
   "source": [
    "Pathes.objective='Biomass'"
   ]
  },
  {
   "cell_type": "code",
   "execution_count": 161,
   "id": "d19166d4",
   "metadata": {},
   "outputs": [
    {
     "data": {
      "text/html": [
       "<strong><em>Optimal</em> solution with objective value 0.428</strong><br><div>\n",
       "<style scoped>\n",
       "    .dataframe tbody tr th:only-of-type {\n",
       "        vertical-align: middle;\n",
       "    }\n",
       "\n",
       "    .dataframe tbody tr th {\n",
       "        vertical-align: top;\n",
       "    }\n",
       "\n",
       "    .dataframe thead th {\n",
       "        text-align: right;\n",
       "    }\n",
       "</style>\n",
       "<table border=\"1\" class=\"dataframe\">\n",
       "  <thead>\n",
       "    <tr style=\"text-align: right;\">\n",
       "      <th></th>\n",
       "      <th>fluxes</th>\n",
       "      <th>reduced_costs</th>\n",
       "    </tr>\n",
       "  </thead>\n",
       "  <tbody>\n",
       "    <tr>\n",
       "      <th>GLUin</th>\n",
       "      <td>1.000000</td>\n",
       "      <td>8.559079e-01</td>\n",
       "    </tr>\n",
       "    <tr>\n",
       "      <th>HK</th>\n",
       "      <td>1.000000</td>\n",
       "      <td>0.000000e+00</td>\n",
       "    </tr>\n",
       "    <tr>\n",
       "      <th>PGI</th>\n",
       "      <td>0.912269</td>\n",
       "      <td>0.000000e+00</td>\n",
       "    </tr>\n",
       "    <tr>\n",
       "      <th>PFK</th>\n",
       "      <td>0.574314</td>\n",
       "      <td>-2.775558e-16</td>\n",
       "    </tr>\n",
       "    <tr>\n",
       "      <th>TPI</th>\n",
       "      <td>0.574314</td>\n",
       "      <td>-8.326673e-17</td>\n",
       "    </tr>\n",
       "    <tr>\n",
       "      <th>...</th>\n",
       "      <td>...</td>\n",
       "      <td>...</td>\n",
       "    </tr>\n",
       "    <tr>\n",
       "      <th>L_Malate_exchange</th>\n",
       "      <td>0.357470</td>\n",
       "      <td>-3.330669e-16</td>\n",
       "    </tr>\n",
       "    <tr>\n",
       "      <th>O2_exchange</th>\n",
       "      <td>-13.171139</td>\n",
       "      <td>-3.552714e-15</td>\n",
       "    </tr>\n",
       "    <tr>\n",
       "      <th>phosphate_exchange</th>\n",
       "      <td>24.093251</td>\n",
       "      <td>1.720846e-15</td>\n",
       "    </tr>\n",
       "    <tr>\n",
       "      <th>Succinate_exchange</th>\n",
       "      <td>0.640305</td>\n",
       "      <td>-8.049117e-15</td>\n",
       "    </tr>\n",
       "    <tr>\n",
       "      <th>Biomass</th>\n",
       "      <td>0.427954</td>\n",
       "      <td>-3.224088e-15</td>\n",
       "    </tr>\n",
       "  </tbody>\n",
       "</table>\n",
       "<p>58 rows × 2 columns</p>\n",
       "</div>"
      ],
      "text/plain": [
       "<Solution 0.428 at 0x18f3147be50>"
      ]
     },
     "execution_count": 161,
     "metadata": {},
     "output_type": "execute_result"
    }
   ],
   "source": [
    "Pathes.optimize()\n"
   ]
  },
  {
   "cell_type": "code",
   "execution_count": 162,
   "id": "786e4c5c",
   "metadata": {},
   "outputs": [],
   "source": [
    "import escher"
   ]
  },
  {
   "cell_type": "code",
   "execution_count": 163,
   "id": "47cd915c",
   "metadata": {},
   "outputs": [],
   "source": [
    "from escher import Builder"
   ]
  },
  {
   "cell_type": "code",
   "execution_count": 164,
   "id": "bd40ddcc",
   "metadata": {},
   "outputs": [],
   "source": [
    "cobra.io.save_json_model(Pathes,\"Pathes.json\")"
   ]
  },
  {
   "cell_type": "code",
   "execution_count": 167,
   "id": "aa720b44",
   "metadata": {},
   "outputs": [],
   "source": [
    "builder=Builder(model_json=\"Pathes.json\")"
   ]
  },
  {
   "cell_type": "markdown",
   "id": "e86aba56",
   "metadata": {},
   "source": []
  },
  {
   "cell_type": "code",
   "execution_count": 168,
   "id": "28f8af44",
   "metadata": {},
   "outputs": [
    {
     "data": {
      "application/vnd.jupyter.widget-view+json": {
       "model_id": "78ea7c0eea21495f86e7bc1d932ac782",
       "version_major": 2,
       "version_minor": 0
      },
      "text/plain": [
       "Builder()"
      ]
     },
     "metadata": {},
     "output_type": "display_data"
    }
   ],
   "source": [
    "builder"
   ]
  },
  {
   "cell_type": "code",
   "execution_count": null,
   "id": "8a19678e",
   "metadata": {},
   "outputs": [],
   "source": []
  },
  {
   "cell_type": "code",
   "execution_count": null,
   "id": "bf9ee89c",
   "metadata": {},
   "outputs": [],
   "source": []
  },
  {
   "cell_type": "code",
   "execution_count": null,
   "id": "284db387",
   "metadata": {},
   "outputs": [],
   "source": []
  },
  {
   "cell_type": "code",
   "execution_count": null,
   "id": "618c6391",
   "metadata": {},
   "outputs": [],
   "source": []
  },
  {
   "cell_type": "code",
   "execution_count": null,
   "id": "c87adda0",
   "metadata": {},
   "outputs": [],
   "source": []
  },
  {
   "cell_type": "code",
   "execution_count": null,
   "id": "204d79c4",
   "metadata": {},
   "outputs": [],
   "source": []
  },
  {
   "cell_type": "code",
   "execution_count": null,
   "id": "74b1961c",
   "metadata": {},
   "outputs": [],
   "source": []
  }
 ],
 "metadata": {
  "interpreter": {
   "hash": "b1ae246c4b4ce65d2f4b267a97acdc8ab2d2fcbcd2b4c60ac42b2247a4e8d0d1"
  },
  "kernelspec": {
   "display_name": "Python 3 (ipykernel)",
   "language": "python",
   "name": "python3"
  },
  "language_info": {
   "codemirror_mode": {
    "name": "ipython",
    "version": 3
   },
   "file_extension": ".py",
   "mimetype": "text/x-python",
   "name": "python",
   "nbconvert_exporter": "python",
   "pygments_lexer": "ipython3",
   "version": "3.9.7"
  }
 },
 "nbformat": 4,
 "nbformat_minor": 5
}
